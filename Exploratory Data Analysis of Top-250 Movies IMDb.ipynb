{
 "cells": [
  {
   "cell_type": "markdown",
   "id": "17ddf900",
   "metadata": {},
   "source": [
    "# Exploratory Data Analysis of Top-250 Movies IMDb"
   ]
  },
  {
   "cell_type": "markdown",
   "id": "933b5c21",
   "metadata": {},
   "source": [
    "-----"
   ]
  },
  {
   "cell_type": "markdown",
   "id": "d347d6ab",
   "metadata": {},
   "source": [
    "### In this lab i would like to analize [Top 250 Movies](https://www.imdb.com/chart/top/?ref_=nv_mv_250) by IMDb to find correlation between the period of the films, rating, director and actors."
   ]
  },
  {
   "cell_type": "markdown",
   "id": "a563f57f",
   "metadata": {},
   "source": [
    "------"
   ]
  },
  {
   "cell_type": "code",
   "execution_count": 1,
   "id": "1c2d2164",
   "metadata": {},
   "outputs": [],
   "source": [
    "import time\n",
    "\n",
    "import pandas as pd\n",
    "import matplotlib.pyplot as plt\n",
    "%matplotlib inline\n",
    "\n",
    "from selenium import webdriver\n",
    "from selenium.webdriver.common.keys import Keys\n",
    "from selenium.webdriver.common.by import By\n",
    "from selenium.webdriver.chrome.options import Options"
   ]
  },
  {
   "cell_type": "markdown",
   "id": "ed3aeeb5",
   "metadata": {},
   "source": [
    "## Collection Data"
   ]
  },
  {
   "cell_type": "code",
   "execution_count": 2,
   "id": "6d44728e",
   "metadata": {},
   "outputs": [
    {
     "name": "stderr",
     "output_type": "stream",
     "text": [
      "C:\\Users\\nikit\\AppData\\Local\\Temp\\ipykernel_18956\\1294229096.py:6: DeprecationWarning: executable_path has been deprecated, please pass in a Service object\n",
      "  driver = webdriver.Chrome(\"C:\\webdrivers\\chromedriver.exe\" , options= options)\n"
     ]
    }
   ],
   "source": [
    "#Opening IMDb website with information about Top-250 movies\n",
    "\n",
    "options = Options()\n",
    "options.add_argument('--headless')\n",
    "\n",
    "driver = webdriver.Chrome(\"C:\\webdrivers\\chromedriver.exe\" , options= options)\n",
    "driver.get('https://www.imdb.com/chart/top/?ref_=nv_mv_250')\n",
    "driver.maximize_window()\n",
    "time.sleep(1)"
   ]
  },
  {
   "cell_type": "code",
   "execution_count": 3,
   "id": "a9264488",
   "metadata": {},
   "outputs": [],
   "source": [
    "# Receiving data with the XPATH method and adding this data into the list\n",
    "\n",
    "# Name\n",
    "\n",
    "names_path = '//td[@class = \"titleColumn\"]/a'\n",
    "names = [name.text for name in driver.find_elements(By.XPATH , names_path)]\n",
    "\n",
    "# Year\n",
    "\n",
    "year_path = '//span[@class = \"secondaryInfo\"]'\n",
    "years = [year.text for year in driver.find_elements(By.XPATH , year_path)]\n",
    "\n",
    "# Director\n",
    "\n",
    "director_path = '//td[@class = \"titleColumn\"]/a'\n",
    "directors = [director.get_attribute('title') for director in driver.find_elements(By.XPATH , director_path)]\n",
    "\n",
    "# Rating\n",
    "\n",
    "rating_path = '//td[@class = \"ratingColumn imdbRating\"]'\n",
    "ratings = [rate.text for rate in driver.find_elements(By.XPATH , rating_path)]"
   ]
  },
  {
   "cell_type": "code",
   "execution_count": 4,
   "id": "d29016c4",
   "metadata": {},
   "outputs": [],
   "source": [
    "# Creating dictionary with all data about Top-250 Movies\n",
    "\n",
    "dict = {'Title' : names , 'Year' : years , 'Director' : directors , 'Rating' : ratings}"
   ]
  },
  {
   "cell_type": "code",
   "execution_count": 5,
   "id": "a985edaa",
   "metadata": {},
   "outputs": [],
   "source": [
    "driver.close()"
   ]
  },
  {
   "cell_type": "code",
   "execution_count": 6,
   "id": "dcaaf612",
   "metadata": {},
   "outputs": [
    {
     "data": {
      "text/html": [
       "<div>\n",
       "<style scoped>\n",
       "    .dataframe tbody tr th:only-of-type {\n",
       "        vertical-align: middle;\n",
       "    }\n",
       "\n",
       "    .dataframe tbody tr th {\n",
       "        vertical-align: top;\n",
       "    }\n",
       "\n",
       "    .dataframe thead th {\n",
       "        text-align: right;\n",
       "    }\n",
       "</style>\n",
       "<table border=\"1\" class=\"dataframe\">\n",
       "  <thead>\n",
       "    <tr style=\"text-align: right;\">\n",
       "      <th></th>\n",
       "      <th>Title</th>\n",
       "      <th>Year</th>\n",
       "      <th>Director</th>\n",
       "      <th>Rating</th>\n",
       "    </tr>\n",
       "  </thead>\n",
       "  <tbody>\n",
       "    <tr>\n",
       "      <th>1</th>\n",
       "      <td>The Shawshank Redemption</td>\n",
       "      <td>(1994)</td>\n",
       "      <td>Frank Darabont (dir.), Tim Robbins, Morgan Fre...</td>\n",
       "      <td>9,2</td>\n",
       "    </tr>\n",
       "    <tr>\n",
       "      <th>2</th>\n",
       "      <td>The Godfather</td>\n",
       "      <td>(1972)</td>\n",
       "      <td>Francis Ford Coppola (dir.), Marlon Brando, Al...</td>\n",
       "      <td>9,2</td>\n",
       "    </tr>\n",
       "    <tr>\n",
       "      <th>3</th>\n",
       "      <td>The Dark Knight</td>\n",
       "      <td>(2008)</td>\n",
       "      <td>Christopher Nolan (dir.), Christian Bale, Heat...</td>\n",
       "      <td>9,0</td>\n",
       "    </tr>\n",
       "    <tr>\n",
       "      <th>4</th>\n",
       "      <td>The Godfather Part II</td>\n",
       "      <td>(1974)</td>\n",
       "      <td>Francis Ford Coppola (dir.), Al Pacino, Robert...</td>\n",
       "      <td>9,0</td>\n",
       "    </tr>\n",
       "    <tr>\n",
       "      <th>5</th>\n",
       "      <td>12 Angry Men</td>\n",
       "      <td>(1957)</td>\n",
       "      <td>Sidney Lumet (dir.), Henry Fonda, Lee J. Cobb</td>\n",
       "      <td>9,0</td>\n",
       "    </tr>\n",
       "    <tr>\n",
       "      <th>...</th>\n",
       "      <td>...</td>\n",
       "      <td>...</td>\n",
       "      <td>...</td>\n",
       "      <td>...</td>\n",
       "    </tr>\n",
       "    <tr>\n",
       "      <th>246</th>\n",
       "      <td>The Help</td>\n",
       "      <td>(2011)</td>\n",
       "      <td>Tate Taylor (dir.), Viola Davis, Emma Stone</td>\n",
       "      <td>8,0</td>\n",
       "    </tr>\n",
       "    <tr>\n",
       "      <th>247</th>\n",
       "      <td>Dersu Uzala</td>\n",
       "      <td>(1975)</td>\n",
       "      <td>Akira Kurosawa (dir.), Maksim Munzuk, Yuriy So...</td>\n",
       "      <td>8,0</td>\n",
       "    </tr>\n",
       "    <tr>\n",
       "      <th>248</th>\n",
       "      <td>Aladdin</td>\n",
       "      <td>(1992)</td>\n",
       "      <td>Ron Clements (dir.), Scott Weinger, Robin Will...</td>\n",
       "      <td>8,0</td>\n",
       "    </tr>\n",
       "    <tr>\n",
       "      <th>249</th>\n",
       "      <td>Gandhi</td>\n",
       "      <td>(1982)</td>\n",
       "      <td>Richard Attenborough (dir.), Ben Kingsley, Joh...</td>\n",
       "      <td>8,0</td>\n",
       "    </tr>\n",
       "    <tr>\n",
       "      <th>250</th>\n",
       "      <td>Dances with Wolves</td>\n",
       "      <td>(1990)</td>\n",
       "      <td>Kevin Costner (dir.), Kevin Costner, Mary McDo...</td>\n",
       "      <td>8,0</td>\n",
       "    </tr>\n",
       "  </tbody>\n",
       "</table>\n",
       "<p>250 rows × 4 columns</p>\n",
       "</div>"
      ],
      "text/plain": [
       "                        Title    Year  \\\n",
       "1    The Shawshank Redemption  (1994)   \n",
       "2               The Godfather  (1972)   \n",
       "3             The Dark Knight  (2008)   \n",
       "4       The Godfather Part II  (1974)   \n",
       "5                12 Angry Men  (1957)   \n",
       "..                        ...     ...   \n",
       "246                  The Help  (2011)   \n",
       "247               Dersu Uzala  (1975)   \n",
       "248                   Aladdin  (1992)   \n",
       "249                    Gandhi  (1982)   \n",
       "250        Dances with Wolves  (1990)   \n",
       "\n",
       "                                              Director Rating  \n",
       "1    Frank Darabont (dir.), Tim Robbins, Morgan Fre...    9,2  \n",
       "2    Francis Ford Coppola (dir.), Marlon Brando, Al...    9,2  \n",
       "3    Christopher Nolan (dir.), Christian Bale, Heat...    9,0  \n",
       "4    Francis Ford Coppola (dir.), Al Pacino, Robert...    9,0  \n",
       "5        Sidney Lumet (dir.), Henry Fonda, Lee J. Cobb    9,0  \n",
       "..                                                 ...    ...  \n",
       "246        Tate Taylor (dir.), Viola Davis, Emma Stone    8,0  \n",
       "247  Akira Kurosawa (dir.), Maksim Munzuk, Yuriy So...    8,0  \n",
       "248  Ron Clements (dir.), Scott Weinger, Robin Will...    8,0  \n",
       "249  Richard Attenborough (dir.), Ben Kingsley, Joh...    8,0  \n",
       "250  Kevin Costner (dir.), Kevin Costner, Mary McDo...    8,0  \n",
       "\n",
       "[250 rows x 4 columns]"
      ]
     },
     "execution_count": 6,
     "metadata": {},
     "output_type": "execute_result"
    }
   ],
   "source": [
    "# Creating Pandas Dataframe from our dictionary\n",
    "\n",
    "df = pd.DataFrame.from_dict(dict)\n",
    "df.index = df.index + 1\n",
    "df"
   ]
  },
  {
   "cell_type": "markdown",
   "id": "77ecb809",
   "metadata": {},
   "source": [
    "## Data Cleaning"
   ]
  },
  {
   "cell_type": "code",
   "execution_count": 7,
   "id": "a5f16bff",
   "metadata": {},
   "outputs": [],
   "source": [
    "# Cleaning the data\n",
    "\n",
    "df['Year'] = df['Year'].apply(lambda x: x.replace('(' , '')).apply(lambda x: x.replace(')' , ''))\n",
    "df['Year'] = df['Year'].astype(int)\n",
    "\n",
    "df['Rating'] = df['Rating'].apply(lambda x : x.replace(',' , '.'))\n",
    "df['Rating'] = df['Rating'].astype(float)\n",
    "\n",
    "# Creating Actors column\n",
    "\n",
    "df['Actors'] = df['Director']\n",
    "\n",
    "df['Director'] = df['Director'].str.split(',').str[0]\n",
    "df['Director'] = df['Director'].apply(lambda x: x.replace( '(dir.)' , ''))\n",
    "\n",
    "df['Actors'] = df['Actors'].str.extract('\\(dir\\.\\)\\s*(.*)', expand=False).str[2:]\n",
    "df.insert(3, 'Actors', df.pop('Actors'))"
   ]
  },
  {
   "cell_type": "code",
   "execution_count": 8,
   "id": "4b96d903",
   "metadata": {},
   "outputs": [
    {
     "data": {
      "text/plain": [
       "Title        object\n",
       "Year          int32\n",
       "Director     object\n",
       "Actors       object\n",
       "Rating      float64\n",
       "dtype: object"
      ]
     },
     "execution_count": 8,
     "metadata": {},
     "output_type": "execute_result"
    }
   ],
   "source": [
    "df.dtypes"
   ]
  },
  {
   "cell_type": "code",
   "execution_count": 9,
   "id": "6b81827f",
   "metadata": {},
   "outputs": [
    {
     "data": {
      "text/html": [
       "<div>\n",
       "<style scoped>\n",
       "    .dataframe tbody tr th:only-of-type {\n",
       "        vertical-align: middle;\n",
       "    }\n",
       "\n",
       "    .dataframe tbody tr th {\n",
       "        vertical-align: top;\n",
       "    }\n",
       "\n",
       "    .dataframe thead th {\n",
       "        text-align: right;\n",
       "    }\n",
       "</style>\n",
       "<table border=\"1\" class=\"dataframe\">\n",
       "  <thead>\n",
       "    <tr style=\"text-align: right;\">\n",
       "      <th></th>\n",
       "      <th>Title</th>\n",
       "      <th>Year</th>\n",
       "      <th>Director</th>\n",
       "      <th>Actors</th>\n",
       "      <th>Rating</th>\n",
       "    </tr>\n",
       "  </thead>\n",
       "  <tbody>\n",
       "    <tr>\n",
       "      <th>1</th>\n",
       "      <td>The Shawshank Redemption</td>\n",
       "      <td>1994</td>\n",
       "      <td>Frank Darabont</td>\n",
       "      <td>Tim Robbins, Morgan Freeman</td>\n",
       "      <td>9.2</td>\n",
       "    </tr>\n",
       "    <tr>\n",
       "      <th>2</th>\n",
       "      <td>The Godfather</td>\n",
       "      <td>1972</td>\n",
       "      <td>Francis Ford Coppola</td>\n",
       "      <td>Marlon Brando, Al Pacino</td>\n",
       "      <td>9.2</td>\n",
       "    </tr>\n",
       "    <tr>\n",
       "      <th>3</th>\n",
       "      <td>The Dark Knight</td>\n",
       "      <td>2008</td>\n",
       "      <td>Christopher Nolan</td>\n",
       "      <td>Christian Bale, Heath Ledger</td>\n",
       "      <td>9.0</td>\n",
       "    </tr>\n",
       "    <tr>\n",
       "      <th>4</th>\n",
       "      <td>The Godfather Part II</td>\n",
       "      <td>1974</td>\n",
       "      <td>Francis Ford Coppola</td>\n",
       "      <td>Al Pacino, Robert De Niro</td>\n",
       "      <td>9.0</td>\n",
       "    </tr>\n",
       "    <tr>\n",
       "      <th>5</th>\n",
       "      <td>12 Angry Men</td>\n",
       "      <td>1957</td>\n",
       "      <td>Sidney Lumet</td>\n",
       "      <td>Henry Fonda, Lee J. Cobb</td>\n",
       "      <td>9.0</td>\n",
       "    </tr>\n",
       "  </tbody>\n",
       "</table>\n",
       "</div>"
      ],
      "text/plain": [
       "                      Title  Year               Director  \\\n",
       "1  The Shawshank Redemption  1994        Frank Darabont    \n",
       "2             The Godfather  1972  Francis Ford Coppola    \n",
       "3           The Dark Knight  2008     Christopher Nolan    \n",
       "4     The Godfather Part II  1974  Francis Ford Coppola    \n",
       "5              12 Angry Men  1957          Sidney Lumet    \n",
       "\n",
       "                         Actors  Rating  \n",
       "1   Tim Robbins, Morgan Freeman     9.2  \n",
       "2      Marlon Brando, Al Pacino     9.2  \n",
       "3  Christian Bale, Heath Ledger     9.0  \n",
       "4     Al Pacino, Robert De Niro     9.0  \n",
       "5      Henry Fonda, Lee J. Cobb     9.0  "
      ]
     },
     "execution_count": 9,
     "metadata": {},
     "output_type": "execute_result"
    }
   ],
   "source": [
    "df.head()"
   ]
  },
  {
   "cell_type": "markdown",
   "id": "5a6dd95f",
   "metadata": {},
   "source": [
    "## Data Exploration"
   ]
  },
  {
   "cell_type": "code",
   "execution_count": 10,
   "id": "16f48339",
   "metadata": {},
   "outputs": [
    {
     "data": {
      "text/html": [
       "<div>\n",
       "<style scoped>\n",
       "    .dataframe tbody tr th:only-of-type {\n",
       "        vertical-align: middle;\n",
       "    }\n",
       "\n",
       "    .dataframe tbody tr th {\n",
       "        vertical-align: top;\n",
       "    }\n",
       "\n",
       "    .dataframe thead th {\n",
       "        text-align: right;\n",
       "    }\n",
       "</style>\n",
       "<table border=\"1\" class=\"dataframe\">\n",
       "  <thead>\n",
       "    <tr style=\"text-align: right;\">\n",
       "      <th></th>\n",
       "      <th>Year</th>\n",
       "      <th>Rating</th>\n",
       "    </tr>\n",
       "  </thead>\n",
       "  <tbody>\n",
       "    <tr>\n",
       "      <th>count</th>\n",
       "      <td>250.000000</td>\n",
       "      <td>250.000000</td>\n",
       "    </tr>\n",
       "    <tr>\n",
       "      <th>mean</th>\n",
       "      <td>1986.360000</td>\n",
       "      <td>8.250400</td>\n",
       "    </tr>\n",
       "    <tr>\n",
       "      <th>std</th>\n",
       "      <td>25.125356</td>\n",
       "      <td>0.235972</td>\n",
       "    </tr>\n",
       "    <tr>\n",
       "      <th>min</th>\n",
       "      <td>1921.000000</td>\n",
       "      <td>8.000000</td>\n",
       "    </tr>\n",
       "    <tr>\n",
       "      <th>25%</th>\n",
       "      <td>1966.250000</td>\n",
       "      <td>8.100000</td>\n",
       "    </tr>\n",
       "    <tr>\n",
       "      <th>50%</th>\n",
       "      <td>1994.000000</td>\n",
       "      <td>8.200000</td>\n",
       "    </tr>\n",
       "    <tr>\n",
       "      <th>75%</th>\n",
       "      <td>2006.000000</td>\n",
       "      <td>8.400000</td>\n",
       "    </tr>\n",
       "    <tr>\n",
       "      <th>max</th>\n",
       "      <td>2022.000000</td>\n",
       "      <td>9.200000</td>\n",
       "    </tr>\n",
       "  </tbody>\n",
       "</table>\n",
       "</div>"
      ],
      "text/plain": [
       "              Year      Rating\n",
       "count   250.000000  250.000000\n",
       "mean   1986.360000    8.250400\n",
       "std      25.125356    0.235972\n",
       "min    1921.000000    8.000000\n",
       "25%    1966.250000    8.100000\n",
       "50%    1994.000000    8.200000\n",
       "75%    2006.000000    8.400000\n",
       "max    2022.000000    9.200000"
      ]
     },
     "execution_count": 10,
     "metadata": {},
     "output_type": "execute_result"
    }
   ],
   "source": [
    "df.describe()"
   ]
  },
  {
   "cell_type": "code",
   "execution_count": 11,
   "id": "8f1b142a",
   "metadata": {},
   "outputs": [
    {
     "data": {
      "text/html": [
       "<div>\n",
       "<style scoped>\n",
       "    .dataframe tbody tr th:only-of-type {\n",
       "        vertical-align: middle;\n",
       "    }\n",
       "\n",
       "    .dataframe tbody tr th {\n",
       "        vertical-align: top;\n",
       "    }\n",
       "\n",
       "    .dataframe thead th {\n",
       "        text-align: right;\n",
       "    }\n",
       "</style>\n",
       "<table border=\"1\" class=\"dataframe\">\n",
       "  <thead>\n",
       "    <tr style=\"text-align: right;\">\n",
       "      <th></th>\n",
       "      <th>Year</th>\n",
       "      <th>Rating</th>\n",
       "    </tr>\n",
       "  </thead>\n",
       "  <tbody>\n",
       "    <tr>\n",
       "      <th>Year</th>\n",
       "      <td>1.000000</td>\n",
       "      <td>0.051117</td>\n",
       "    </tr>\n",
       "    <tr>\n",
       "      <th>Rating</th>\n",
       "      <td>0.051117</td>\n",
       "      <td>1.000000</td>\n",
       "    </tr>\n",
       "  </tbody>\n",
       "</table>\n",
       "</div>"
      ],
      "text/plain": [
       "            Year    Rating\n",
       "Year    1.000000  0.051117\n",
       "Rating  0.051117  1.000000"
      ]
     },
     "execution_count": 11,
     "metadata": {},
     "output_type": "execute_result"
    }
   ],
   "source": [
    "df.corr()"
   ]
  },
  {
   "cell_type": "markdown",
   "id": "0c362f9e",
   "metadata": {},
   "source": [
    "### We can see that there is a slight positive  correlation between rating and year"
   ]
  },
  {
   "cell_type": "markdown",
   "id": "5b3ec269",
   "metadata": {},
   "source": [
    "-----"
   ]
  },
  {
   "cell_type": "markdown",
   "id": "1a538fab",
   "metadata": {},
   "source": [
    "# Data Visualization and Analysis"
   ]
  },
  {
   "cell_type": "markdown",
   "id": "e3975335",
   "metadata": {},
   "source": [
    "# Best Decade"
   ]
  },
  {
   "cell_type": "code",
   "execution_count": 12,
   "id": "4ae67bf6",
   "metadata": {},
   "outputs": [],
   "source": [
    "df['Decade'] = (df['Year'] // 10) * 10"
   ]
  },
  {
   "cell_type": "code",
   "execution_count": 13,
   "id": "26f8e9b1",
   "metadata": {},
   "outputs": [],
   "source": [
    "decade_ratings = df.groupby('Decade').mean()['Rating']"
   ]
  },
  {
   "cell_type": "code",
   "execution_count": 14,
   "id": "ae546fe2",
   "metadata": {},
   "outputs": [
    {
     "data": {
      "image/png": "[encoded data removed]",
      "text/plain": [
       "<Figure size 1200x600 with 1 Axes>"
      ]
     },
     "metadata": {},
     "output_type": "display_data"
    }
   ],
   "source": [
    "decade_ratings.plot(kind='line', figsize=(12,6))\n",
    "\n",
    "plt.xlabel('Decade')\n",
    "plt.ylabel('Average Rating')\n",
    "plt.title('Average Rating of IMDb Top 250 Movies by Decade')\n",
    "\n",
    "plt.show()"
   ]
  },
  {
   "cell_type": "markdown",
   "id": "215be42c",
   "metadata": {},
   "source": [
    "### Based on this chart, we can see that the highest average ratings are for films made in the 90s. We can rely on this data when creating new films.  In addition, we can use this information to study the characteristics of films from those decades and try to replicate them in our own filmmaking efforts."
   ]
  },
  {
   "cell_type": "markdown",
   "id": "5f6aee3c",
   "metadata": {},
   "source": [
    "-------"
   ]
  },
  {
   "cell_type": "markdown",
   "id": "d9abc9c5",
   "metadata": {},
   "source": [
    "# Best Directors"
   ]
  },
  {
   "cell_type": "code",
   "execution_count": 15,
   "id": "58a51c26",
   "metadata": {},
   "outputs": [],
   "source": [
    "director_counts = df['Director'].value_counts()\n",
    "\n",
    "df_directors = pd.DataFrame({'Director': director_counts.index, 'Count': director_counts.values})\n",
    "\n",
    "df_directors = df_directors.sort_values(by='Count', ascending=False)"
   ]
  },
  {
   "cell_type": "code",
   "execution_count": 16,
   "id": "77120d3e",
   "metadata": {},
   "outputs": [
    {
     "data": {
      "image/png": "[encoded data removed]",
      "text/plain": [
       "<Figure size 1000x600 with 1 Axes>"
      ]
     },
     "metadata": {},
     "output_type": "display_data"
    }
   ],
   "source": [
    "plt.figure(figsize=(10, 6))\n",
    "plt.bar(df_directors['Director'][:10], df_directors['Count'][:10])\n",
    "\n",
    "\n",
    "plt.title(\"Top 10 Most Frequent Directors in Top 250 IMDb\")\n",
    "plt.xlabel(\"Directors\")\n",
    "plt.xticks(rotation=90)\n",
    "plt.ylabel(\"Number of Movies\")\n",
    "\n",
    "\n",
    "plt.show()"
   ]
  },
  {
   "cell_type": "markdown",
   "id": "4bda6266",
   "metadata": {},
   "source": [
    "###  The most frequent directors in Top-250 are Martin Scorsese, Christopher Nolan, Akira Kurosawa, Steven Spielberg and Stanley Kubtick. Each has 7 movies in the list."
   ]
  },
  {
   "cell_type": "markdown",
   "id": "03796e3e",
   "metadata": {},
   "source": [
    "------"
   ]
  },
  {
   "cell_type": "markdown",
   "id": "7e2a7ad4",
   "metadata": {},
   "source": [
    "# Best Actors"
   ]
  },
  {
   "cell_type": "code",
   "execution_count": 17,
   "id": "983077c8",
   "metadata": {},
   "outputs": [],
   "source": [
    "df['Actor_1'] = df['Actors'].str.split(',').str[0]\n",
    "\n",
    "df['Actor_2'] = df['Actors'].str.split(',').str[1]\n",
    "\n",
    "actors = pd.concat([df['Actor_1'], df['Actor_2']])"
   ]
  },
  {
   "cell_type": "code",
   "execution_count": 20,
   "id": "e574ca13",
   "metadata": {},
   "outputs": [
    {
     "name": "stdout",
     "output_type": "stream",
     "text": [
      "Robert De Niro       6\n",
      "Leonardo DiCaprio    5\n",
      "Charles Chaplin      5\n",
      "Tom Hanks            5\n",
      "James Stewart        4\n",
      "Toshirô Mifune       4\n",
      "Clint Eastwood       4\n",
      "Christian Bale       4\n",
      " Robert De Niro      3\n",
      "Mark Hamill          3\n",
      "dtype: int64\n"
     ]
    }
   ],
   "source": [
    "actor_counts = actors.value_counts()\n",
    "actor_counts = actor_counts.sort_values(ascending= False)\n",
    "print(actor_counts[:10])"
   ]
  },
  {
   "cell_type": "code",
   "execution_count": 21,
   "id": "c015cdee",
   "metadata": {},
   "outputs": [
    {
     "data": {
      "image/png": "[encoded data removed]",
      "text/plain": [
       "<Figure size 640x480 with 1 Axes>"
      ]
     },
     "metadata": {},
     "output_type": "display_data"
    }
   ],
   "source": [
    "top_actors = actor_counts[:10]\n",
    "top_actors = top_actors.iloc[::-1]\n",
    "\n",
    "# Create a horizontal bar plot of the top 10 most frequent actors\n",
    "plt.barh(top_actors.index, top_actors.values)\n",
    "plt.title('Top 10 Most Frequent Actors in Top-250 IMDb')\n",
    "plt.xlabel('Number of Movies')\n",
    "plt.ylabel('Actors')\n",
    "plt.show()"
   ]
  },
  {
   "cell_type": "markdown",
   "id": "f61f816d",
   "metadata": {},
   "source": [
    "###  The most frequent actor in Top-250 IMDb is Robert De Niro who was one of the main characters in 6 films from the list."
   ]
  },
  {
   "cell_type": "markdown",
   "id": "9e24c79d",
   "metadata": {},
   "source": [
    "----"
   ]
  },
  {
   "cell_type": "markdown",
   "id": "ccfdd5ae",
   "metadata": {},
   "source": [
    "# Thank you for watching!"
   ]
  },
  {
   "cell_type": "markdown",
   "id": "97b23e97",
   "metadata": {},
   "source": [
    "-----"
   ]
  }
 ],
 "metadata": {
  "kernelspec": {
   "display_name": "Python 3 (ipykernel)",
   "language": "python",
   "name": "python3"
  },
  "language_info": {
   "codemirror_mode": {
    "name": "ipython",
    "version": 3
   },
   "file_extension": ".py",
   "mimetype": "text/x-python",
   "name": "python",
   "nbconvert_exporter": "python",
   "pygments_lexer": "ipython3",
   "version": "3.9.13"
  }
 },
 "nbformat": 4,
 "nbformat_minor": 5
}
